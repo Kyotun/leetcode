{
 "cells": [
  {
   "cell_type": "code",
   "execution_count": 1,
   "metadata": {},
   "outputs": [],
   "source": [
    "strs = [\"cir\",\"car\"]"
   ]
  },
  {
   "cell_type": "code",
   "execution_count": 2,
   "metadata": {},
   "outputs": [],
   "source": [
    "def longestCommonPrefix(strs: list[str]) -> str:\n",
    "        if len(strs) == 1:\n",
    "            return strs[0]\n",
    "\n",
    "        first = 0\n",
    "        second = 201\n",
    "\n",
    "        for index in range(len(strs)-1):\n",
    "            for i in range(min(len(strs[index]), len(strs[index+1]))):\n",
    "                if strs[index][0] != strs[index+1][0]:\n",
    "                    return \"\"\n",
    "                elif strs[index][i] == strs[index+1][i]:\n",
    "                    first += 1\n",
    "                elif strs[index][i] != strs[index+1][i]:\n",
    "                    break   \n",
    "            if first < second:\n",
    "                second = first\n",
    "            first = 0\n",
    "        return strs[0][:second]"
   ]
  },
  {
   "cell_type": "code",
   "execution_count": 3,
   "metadata": {},
   "outputs": [
    {
     "data": {
      "text/plain": [
       "'c'"
      ]
     },
     "execution_count": 3,
     "metadata": {},
     "output_type": "execute_result"
    }
   ],
   "source": [
    "longestCommonPrefix(strs=strs)"
   ]
  },
  {
   "cell_type": "code",
   "execution_count": null,
   "metadata": {},
   "outputs": [],
   "source": []
  }
 ],
 "metadata": {
  "kernelspec": {
   "display_name": "Python 3.11.7 64-bit",
   "language": "python",
   "name": "python3"
  },
  "language_info": {
   "codemirror_mode": {
    "name": "ipython",
    "version": 3
   },
   "file_extension": ".py",
   "mimetype": "text/x-python",
   "name": "python",
   "nbconvert_exporter": "python",
   "pygments_lexer": "ipython3",
   "version": "3.11.7"
  },
  "orig_nbformat": 4,
  "vscode": {
   "interpreter": {
    "hash": "b0fa6594d8f4cbf19f97940f81e996739fb7646882a419484c72d19e05852a7e"
   }
  }
 },
 "nbformat": 4,
 "nbformat_minor": 2
}
