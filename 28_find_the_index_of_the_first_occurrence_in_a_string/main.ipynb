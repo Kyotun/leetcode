{
 "cells": [
  {
   "cell_type": "code",
   "execution_count": 2,
   "metadata": {},
   "outputs": [],
   "source": [
    "needle = \"sad\"\n",
    "haystack = \"sadbutsad\""
   ]
  },
  {
   "cell_type": "code",
   "execution_count": 3,
   "metadata": {},
   "outputs": [],
   "source": [
    "def strStr(haystack: str, needle: str) -> int:\n",
    "    char_index = 0\n",
    "    i = 0\n",
    "    while i < len(haystack):\n",
    "        if haystack[i] == needle[char_index]:\n",
    "            if char_index == (len(needle)-1):\n",
    "                return(i-char_index)\n",
    "            char_index += 1\n",
    "        else:\n",
    "            i -= char_index\n",
    "            char_index = 0\n",
    "        i += 1\n",
    "    return -1"
   ]
  },
  {
   "cell_type": "code",
   "execution_count": null,
   "metadata": {},
   "outputs": [],
   "source": [
    "strStr(haystack=haystack, needle=needle)"
   ]
  }
 ],
 "metadata": {
  "kernelspec": {
   "display_name": "Python 3.11.7 64-bit",
   "language": "python",
   "name": "python3"
  },
  "language_info": {
   "codemirror_mode": {
    "name": "ipython",
    "version": 3
   },
   "file_extension": ".py",
   "mimetype": "text/x-python",
   "name": "python",
   "nbconvert_exporter": "python",
   "pygments_lexer": "ipython3",
   "version": "3.11.7"
  },
  "orig_nbformat": 4,
  "vscode": {
   "interpreter": {
    "hash": "b0fa6594d8f4cbf19f97940f81e996739fb7646882a419484c72d19e05852a7e"
   }
  }
 },
 "nbformat": 4,
 "nbformat_minor": 2
}
