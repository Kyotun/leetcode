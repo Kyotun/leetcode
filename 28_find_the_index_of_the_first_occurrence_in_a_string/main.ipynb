{
 "cells": [
  {
   "cell_type": "code",
   "execution_count": 22,
   "metadata": {},
   "outputs": [],
   "source": [
    "needle = \"sad\"\n",
    "haystack = \"sadbutsad\""
   ]
  },
  {
   "cell_type": "code",
   "execution_count": 24,
   "metadata": {},
   "outputs": [
    {
     "name": "stdout",
     "output_type": "stream",
     "text": [
      "0\n"
     ]
    },
    {
     "ename": "IndexError",
     "evalue": "string index out of range",
     "output_type": "error",
     "traceback": [
      "\u001b[0;31m---------------------------------------------------------------------------\u001b[0m",
      "\u001b[0;31mIndexError\u001b[0m                                Traceback (most recent call last)",
      "Cell \u001b[0;32mIn[24], line 4\u001b[0m\n\u001b[1;32m      2\u001b[0m i \u001b[39m=\u001b[39m \u001b[39m0\u001b[39m\n\u001b[1;32m      3\u001b[0m \u001b[39mwhile\u001b[39;00m i \u001b[39m<\u001b[39m \u001b[39mlen\u001b[39m(haystack):\n\u001b[0;32m----> 4\u001b[0m     \u001b[39mif\u001b[39;00m haystack[i] \u001b[39m==\u001b[39m needle[char_index]:\n\u001b[1;32m      5\u001b[0m         \u001b[39mif\u001b[39;00m char_index \u001b[39m==\u001b[39m (\u001b[39mlen\u001b[39m(needle)\u001b[39m-\u001b[39m\u001b[39m1\u001b[39m):\n\u001b[1;32m      6\u001b[0m             \u001b[39mprint\u001b[39m(i\u001b[39m-\u001b[39mchar_index)\n",
      "\u001b[0;31mIndexError\u001b[0m: string index out of range"
     ]
    }
   ],
   "source": [
    "char_index = 0\n",
    "i = 0\n",
    "while i < len(haystack):\n",
    "    if haystack[i] == needle[char_index]:\n",
    "        if char_index == (len(needle)-1):\n",
    "            print(i-char_index)\n",
    "        char_index += 1\n",
    "    else:\n",
    "        i -= char_index\n",
    "        char_index = 0\n",
    "    i += 1\n",
    "print(-1)"
   ]
  },
  {
   "cell_type": "code",
   "execution_count": null,
   "metadata": {},
   "outputs": [],
   "source": []
  }
 ],
 "metadata": {
  "kernelspec": {
   "display_name": "Python 3.11.7 64-bit",
   "language": "python",
   "name": "python3"
  },
  "language_info": {
   "codemirror_mode": {
    "name": "ipython",
    "version": 3
   },
   "file_extension": ".py",
   "mimetype": "text/x-python",
   "name": "python",
   "nbconvert_exporter": "python",
   "pygments_lexer": "ipython3",
   "version": "3.11.7"
  },
  "orig_nbformat": 4,
  "vscode": {
   "interpreter": {
    "hash": "b0fa6594d8f4cbf19f97940f81e996739fb7646882a419484c72d19e05852a7e"
   }
  }
 },
 "nbformat": 4,
 "nbformat_minor": 2
}
