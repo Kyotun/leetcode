{
 "cells": [
  {
   "cell_type": "code",
   "execution_count": 46,
   "metadata": {},
   "outputs": [],
   "source": [
    "s = \"MCMXCIV\""
   ]
  },
  {
   "cell_type": "code",
   "execution_count": 47,
   "metadata": {},
   "outputs": [],
   "source": [
    "sum = 0\n",
    "my_dict = {\n",
    "    'I':1,\n",
    "    'V':5,\n",
    "    'X':10,\n",
    "    'L':50,\n",
    "    'C':100,\n",
    "    'D':500,\n",
    "    'M':1000\n",
    "}"
   ]
  },
  {
   "cell_type": "code",
   "execution_count": 48,
   "metadata": {},
   "outputs": [],
   "source": [
    "# for char in s:\n",
    "#     sum += my_dict[char]\n",
    "# print(sum)"
   ]
  },
  {
   "cell_type": "code",
   "execution_count": 49,
   "metadata": {},
   "outputs": [],
   "source": [
    "# for i in range(len(s)):\n",
    "#     if s[i] == 'I' and (s[i+1] == 'V' or s[i+1] == 'X'):\n",
    "#         sum -= 2\n",
    "#     elif s[i] == 'X' and (s[i+1] == 'L' or s[i+1] == 'C'):\n",
    "#         sum -= 20\n",
    "#     elif s[i] == 'C' and (s[i+1] == 'D' or s[i+1] == 'M'):\n",
    "#         sum -= 200\n",
    "# print(sum)"
   ]
  },
  {
   "cell_type": "code",
   "execution_count": 50,
   "metadata": {},
   "outputs": [
    {
     "name": "stdout",
     "output_type": "stream",
     "text": [
      "1994\n"
     ]
    }
   ],
   "source": [
    "for i in range(len(s)):\n",
    "    if i < len(s) - 1 and my_dict[s[i]] < my_dict[s[i+1]]:\n",
    "        sum -= my_dict[s[i]]\n",
    "    else:\n",
    "        sum += my_dict[s[i]]\n",
    "print(sum)"
   ]
  },
  {
   "cell_type": "code",
   "execution_count": null,
   "metadata": {},
   "outputs": [],
   "source": []
  }
 ],
 "metadata": {
  "kernelspec": {
   "display_name": "Python 3.11.7 64-bit",
   "language": "python",
   "name": "python3"
  },
  "language_info": {
   "codemirror_mode": {
    "name": "ipython",
    "version": 3
   },
   "file_extension": ".py",
   "mimetype": "text/x-python",
   "name": "python",
   "nbconvert_exporter": "python",
   "pygments_lexer": "ipython3",
   "version": "3.11.7"
  },
  "orig_nbformat": 4,
  "vscode": {
   "interpreter": {
    "hash": "b0fa6594d8f4cbf19f97940f81e996739fb7646882a419484c72d19e05852a7e"
   }
  }
 },
 "nbformat": 4,
 "nbformat_minor": 2
}
