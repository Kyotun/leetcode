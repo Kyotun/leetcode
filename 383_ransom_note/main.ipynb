{
 "cells": [
  {
   "cell_type": "code",
   "execution_count": 4,
   "metadata": {},
   "outputs": [],
   "source": [
    "rN=\"bg\"\n",
    "m=\"efjbdfbdgfjhhaiigfhbaejahgfbbgbjagbddfgdiaigdadhcfcj\""
   ]
  },
  {
   "cell_type": "code",
   "execution_count": 5,
   "metadata": {},
   "outputs": [],
   "source": [
    "map_rN = {}\n",
    "map_m = {}"
   ]
  },
  {
   "cell_type": "code",
   "execution_count": 6,
   "metadata": {},
   "outputs": [
    {
     "name": "stdout",
     "output_type": "stream",
     "text": [
      "{'b': 1, 'g': 1}\n"
     ]
    }
   ],
   "source": [
    "for i in range(len(rN)):\n",
    "    if rN[i] not in map_rN:\n",
    "        map_rN[rN[i]] = 1\n",
    "    else:\n",
    "        map_rN[rN[i]] += 1\n",
    "print(map_rN)"
   ]
  },
  {
   "cell_type": "code",
   "execution_count": 7,
   "metadata": {},
   "outputs": [
    {
     "name": "stdout",
     "output_type": "stream",
     "text": [
      "{'e': 2, 'f': 7, 'j': 5, 'b': 7, 'd': 7, 'g': 7, 'h': 5, 'a': 6, 'i': 4, 'c': 2}\n"
     ]
    }
   ],
   "source": [
    "\n",
    "for i in range(len(m)):\n",
    "    if m[i] not in map_m:\n",
    "        map_m[m[i]] = 1\n",
    "    else:\n",
    "        map_m[m[i]] += 1\n",
    "print(map_m)"
   ]
  },
  {
   "cell_type": "code",
   "execution_count": 8,
   "metadata": {},
   "outputs": [
    {
     "name": "stdout",
     "output_type": "stream",
     "text": [
      "1\n"
     ]
    }
   ],
   "source": [
    "\n",
    "for key, value in map_rN.items():\n",
    "    if key not in map_m:\n",
    "        print(0)\n",
    "    elif map_m[key] < value:\n",
    "        print(0)\n",
    "print(1)"
   ]
  },
  {
   "cell_type": "code",
   "execution_count": null,
   "metadata": {},
   "outputs": [],
   "source": []
  }
 ],
 "metadata": {
  "kernelspec": {
   "display_name": "Python 3.11.7 64-bit",
   "language": "python",
   "name": "python3"
  },
  "language_info": {
   "codemirror_mode": {
    "name": "ipython",
    "version": 3
   },
   "file_extension": ".py",
   "mimetype": "text/x-python",
   "name": "python",
   "nbconvert_exporter": "python",
   "pygments_lexer": "ipython3",
   "version": "3.11.7"
  },
  "orig_nbformat": 4,
  "vscode": {
   "interpreter": {
    "hash": "b0fa6594d8f4cbf19f97940f81e996739fb7646882a419484c72d19e05852a7e"
   }
  }
 },
 "nbformat": 4,
 "nbformat_minor": 2
}
