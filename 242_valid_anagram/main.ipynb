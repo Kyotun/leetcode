{
 "cells": [
  {
   "cell_type": "code",
   "execution_count": 27,
   "metadata": {},
   "outputs": [],
   "source": [
    "s = \"anagram\"\n",
    "t = \"nagaram\""
   ]
  },
  {
   "cell_type": "code",
   "execution_count": 28,
   "metadata": {},
   "outputs": [],
   "source": [
    "map_s = {}\n",
    "map_t = {}"
   ]
  },
  {
   "cell_type": "code",
   "execution_count": 29,
   "metadata": {},
   "outputs": [
    {
     "name": "stdout",
     "output_type": "stream",
     "text": [
      "{'a': 3, 'n': 1, 'g': 1, 'r': 1, 'm': 1}\n"
     ]
    }
   ],
   "source": [
    "for i in range(len(s)):\n",
    "    if s[i] not in map_s:\n",
    "        map_s[s[i]] = 1\n",
    "    else:\n",
    "        map_s[s[i]] += 1\n",
    "print(map_s)"
   ]
  },
  {
   "cell_type": "code",
   "execution_count": 30,
   "metadata": {},
   "outputs": [
    {
     "name": "stdout",
     "output_type": "stream",
     "text": [
      "{'n': 1, 'a': 3, 'g': 1, 'r': 1, 'm': 1}\n"
     ]
    }
   ],
   "source": [
    "for j in range(len(t)):\n",
    "    if t[j] not in map_t:\n",
    "        map_t[t[j]] = 1\n",
    "    else:\n",
    "        map_t[t[j]] += 1\n",
    "print(map_t)"
   ]
  },
  {
   "cell_type": "code",
   "execution_count": 31,
   "metadata": {},
   "outputs": [
    {
     "name": "stdout",
     "output_type": "stream",
     "text": [
      "1\n"
     ]
    }
   ],
   "source": [
    "if len(s) < len(t):\n",
    "    for key, value in map_t.items():\n",
    "        if key not in map_s:\n",
    "            print(0)\n",
    "        elif map_s[key] != value:\n",
    "            print(0)\n",
    "else:\n",
    "    for key, value in map_s.items():\n",
    "        if key not in map_t:\n",
    "            print(0)\n",
    "        elif map_t[key] != value:\n",
    "            print(0)\n",
    "print(1)"
   ]
  },
  {
   "cell_type": "code",
   "execution_count": null,
   "metadata": {},
   "outputs": [],
   "source": []
  }
 ],
 "metadata": {
  "kernelspec": {
   "display_name": "Python 3.11.7 64-bit",
   "language": "python",
   "name": "python3"
  },
  "language_info": {
   "codemirror_mode": {
    "name": "ipython",
    "version": 3
   },
   "file_extension": ".py",
   "mimetype": "text/x-python",
   "name": "python",
   "nbconvert_exporter": "python",
   "pygments_lexer": "ipython3",
   "version": "3.11.7"
  },
  "orig_nbformat": 4,
  "vscode": {
   "interpreter": {
    "hash": "b0fa6594d8f4cbf19f97940f81e996739fb7646882a419484c72d19e05852a7e"
   }
  }
 },
 "nbformat": 4,
 "nbformat_minor": 2
}
