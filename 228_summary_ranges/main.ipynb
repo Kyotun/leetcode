{
 "cells": [
  {
   "cell_type": "code",
   "execution_count": 1,
   "metadata": {},
   "outputs": [],
   "source": [
    "nums = [0,1,3,5,7,8,9]"
   ]
  },
  {
   "cell_type": "code",
   "execution_count": 2,
   "metadata": {},
   "outputs": [],
   "source": [
    "def summaryRanges(nums: list[int]) -> list[str]:\n",
    "    my_list = []\n",
    "    j = 0\n",
    "    for i in range(len(nums)):\n",
    "        if i == len(nums)-1:\n",
    "            if i == j:\n",
    "                my_list.append(str(nums[i]))\n",
    "            elif abs(nums[i] -  nums[i-1]) == 1:\n",
    "                my_list.append(str(nums[j]) + \"->\" + str(nums[i]))\n",
    "        elif abs(nums[i+1] -  nums[i]) == 1:\n",
    "            continue\n",
    "        elif abs(nums[i+1] - nums[i]) > 1:\n",
    "            if i == j:\n",
    "                my_list.append(str(nums[i]))\n",
    "            else:\n",
    "                my_list.append(str(nums[j]) + \"->\" + str(nums[i]))\n",
    "            j = i + 1\n",
    "    return my_list"
   ]
  },
  {
   "cell_type": "code",
   "execution_count": 3,
   "metadata": {},
   "outputs": [
    {
     "name": "stdout",
     "output_type": "stream",
     "text": [
      "['0->1', '3', '5', '7->9']\n"
     ]
    }
   ],
   "source": [
    "print(summaryRanges(nums=nums))"
   ]
  }
 ],
 "metadata": {
  "kernelspec": {
   "display_name": "Python 3.11.7 64-bit",
   "language": "python",
   "name": "python3"
  },
  "language_info": {
   "codemirror_mode": {
    "name": "ipython",
    "version": 3
   },
   "file_extension": ".py",
   "mimetype": "text/x-python",
   "name": "python",
   "nbconvert_exporter": "python",
   "pygments_lexer": "ipython3",
   "version": "3.11.7"
  },
  "orig_nbformat": 4,
  "vscode": {
   "interpreter": {
    "hash": "b0fa6594d8f4cbf19f97940f81e996739fb7646882a419484c72d19e05852a7e"
   }
  }
 },
 "nbformat": 4,
 "nbformat_minor": 2
}
