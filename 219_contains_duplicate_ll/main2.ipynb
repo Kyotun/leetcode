{
 "cells": [
  {
   "cell_type": "code",
   "execution_count": 3,
   "metadata": {},
   "outputs": [],
   "source": [
    "from collections import defaultdict"
   ]
  },
  {
   "cell_type": "code",
   "execution_count": 4,
   "metadata": {},
   "outputs": [],
   "source": [
    "nums = [1,2,3,1]\n",
    "k = 3\n",
    "my_map = defaultdict(list)"
   ]
  },
  {
   "cell_type": "code",
   "execution_count": 5,
   "metadata": {},
   "outputs": [
    {
     "name": "stdout",
     "output_type": "stream",
     "text": [
      "1\n",
      "0\n",
      "defaultdict(<class 'list'>, {1: [0, 3], 2: [1], 3: [2]})\n"
     ]
    }
   ],
   "source": [
    "for i in range(len(nums)):\n",
    "    if nums[i] in my_map:\n",
    "        for j in range(len(my_map[nums[i]])):\n",
    "            if abs(my_map[nums[i]][j] - i) <= k:\n",
    "                print(1)\n",
    "    my_map[nums[i]].append(i)\n",
    "print(0)\n",
    "print(my_map)"
   ]
  }
 ],
 "metadata": {
  "kernelspec": {
   "display_name": "Python 3.11.7 64-bit",
   "language": "python",
   "name": "python3"
  },
  "language_info": {
   "codemirror_mode": {
    "name": "ipython",
    "version": 3
   },
   "file_extension": ".py",
   "mimetype": "text/x-python",
   "name": "python",
   "nbconvert_exporter": "python",
   "pygments_lexer": "ipython3",
   "version": "3.11.7"
  },
  "orig_nbformat": 4,
  "vscode": {
   "interpreter": {
    "hash": "b0fa6594d8f4cbf19f97940f81e996739fb7646882a419484c72d19e05852a7e"
   }
  }
 },
 "nbformat": 4,
 "nbformat_minor": 2
}
