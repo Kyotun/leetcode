{
 "cells": [
  {
   "cell_type": "code",
   "execution_count": 19,
   "metadata": {},
   "outputs": [],
   "source": [
    "num = 2"
   ]
  },
  {
   "cell_type": "code",
   "execution_count": 20,
   "metadata": {},
   "outputs": [],
   "source": [
    "def squared(n):\n",
    "    result = 0\n",
    "    while n>0:\n",
    "        last = n%10\n",
    "        result += last * last\n",
    "        n = n//10\n",
    "    return result"
   ]
  },
  {
   "cell_type": "code",
   "execution_count": 21,
   "metadata": {},
   "outputs": [
    {
     "name": "stdout",
     "output_type": "stream",
     "text": [
      "slow:  4\n",
      "fast:  16\n"
     ]
    }
   ],
   "source": [
    "slow = squared(num)\n",
    "fast = squared(squared(num))\n",
    "print(\"slow: \", slow)\n",
    "print(\"fast: \", fast)"
   ]
  },
  {
   "cell_type": "code",
   "execution_count": 22,
   "metadata": {},
   "outputs": [
    {
     "name": "stdout",
     "output_type": "stream",
     "text": [
      "slow:  16\n",
      "fast:  58\n",
      "slow:  37\n",
      "fast:  145\n",
      "slow:  58\n",
      "fast:  20\n",
      "slow:  89\n",
      "fast:  16\n",
      "slow:  145\n",
      "fast:  58\n",
      "slow:  42\n",
      "fast:  145\n",
      "slow:  20\n",
      "fast:  20\n"
     ]
    }
   ],
   "source": [
    "while slow!=fast and fast!=1:\n",
    "    slow = squared(slow)\n",
    "    fast = squared(squared(fast))\n",
    "    print(\"slow: \", slow)\n",
    "    print(\"fast: \", fast)"
   ]
  },
  {
   "cell_type": "code",
   "execution_count": null,
   "metadata": {},
   "outputs": [],
   "source": []
  }
 ],
 "metadata": {
  "kernelspec": {
   "display_name": "Python 3.11.7 64-bit",
   "language": "python",
   "name": "python3"
  },
  "language_info": {
   "codemirror_mode": {
    "name": "ipython",
    "version": 3
   },
   "file_extension": ".py",
   "mimetype": "text/x-python",
   "name": "python",
   "nbconvert_exporter": "python",
   "pygments_lexer": "ipython3",
   "version": "3.11.7"
  },
  "orig_nbformat": 4,
  "vscode": {
   "interpreter": {
    "hash": "b0fa6594d8f4cbf19f97940f81e996739fb7646882a419484c72d19e05852a7e"
   }
  }
 },
 "nbformat": 4,
 "nbformat_minor": 2
}
