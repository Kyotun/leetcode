{
 "cells": [
  {
   "cell_type": "code",
   "execution_count": 64,
   "metadata": {},
   "outputs": [],
   "source": [
    "nums = [3,3]\n",
    "val = 3"
   ]
  },
  {
   "cell_type": "code",
   "execution_count": 65,
   "metadata": {},
   "outputs": [
    {
     "name": "stdout",
     "output_type": "stream",
     "text": [
      "[3, 3]\n"
     ]
    }
   ],
   "source": [
    "i = 0\n",
    "y = 0\n",
    "if len(nums) == 0:\n",
    "    print(0)\n",
    "elif len(nums) == 1:\n",
    "    if nums[0] != val:\n",
    "        print(1)\n",
    "    print(0)\n",
    "\n",
    "i = 0\n",
    "y = 0\n",
    "while i+y <= (len(nums)-1):\n",
    "    if nums[len(nums)-1-y] == val:\n",
    "        y += 1\n",
    "    elif nums[i] == val:\n",
    "        nums[i] = nums[len(nums)-1-y]\n",
    "        nums[len(nums)-1-y] = val\n",
    "        i += 1\n",
    "    else:\n",
    "        i += 1\n",
    "print(len(nums) - y)\n",
    "print(nums)"
   ]
  },
  {
   "cell_type": "code",
   "execution_count": null,
   "metadata": {},
   "outputs": [],
   "source": []
  }
 ],
 "metadata": {
  "kernelspec": {
   "display_name": "Python 3.11.7 64-bit",
   "language": "python",
   "name": "python3"
  },
  "language_info": {
   "codemirror_mode": {
    "name": "ipython",
    "version": 3
   },
   "file_extension": ".py",
   "mimetype": "text/x-python",
   "name": "python",
   "nbconvert_exporter": "python",
   "pygments_lexer": "ipython3",
   "version": "3.11.7"
  },
  "orig_nbformat": 4,
  "vscode": {
   "interpreter": {
    "hash": "b0fa6594d8f4cbf19f97940f81e996739fb7646882a419484c72d19e05852a7e"
   }
  }
 },
 "nbformat": 4,
 "nbformat_minor": 2
}
