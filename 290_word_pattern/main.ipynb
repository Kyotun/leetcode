{
 "cells": [
  {
   "cell_type": "code",
   "execution_count": 43,
   "metadata": {},
   "outputs": [],
   "source": [
    "from collections import defaultdict"
   ]
  },
  {
   "cell_type": "code",
   "execution_count": 46,
   "metadata": {},
   "outputs": [
    {
     "name": "stdout",
     "output_type": "stream",
     "text": [
      "dog cat cat dog\n",
      "['a', 'a', 'b', 'b']\n"
     ]
    }
   ],
   "source": [
    "pattern = \"abba\"\n",
    "s = \"dog cat cat dog\"\n",
    "pattern = sorted(pattern)\n",
    "s.split()\n",
    "print(s)\n",
    "print(pattern)"
   ]
  },
  {
   "cell_type": "code",
   "execution_count": 45,
   "metadata": {},
   "outputs": [],
   "source": [
    "my_map = defaultdict(str)\n",
    "word = \"\"\n",
    "j = 0"
   ]
  },
  {
   "cell_type": "code",
   "execution_count": 37,
   "metadata": {},
   "outputs": [
    {
     "name": "stdout",
     "output_type": "stream",
     "text": [
      "\n",
      "a\n",
      "\n",
      "a\n",
      "\n",
      "b\n",
      "0\n",
      "aaccddggoott\n",
      "b\n",
      "1\n"
     ]
    }
   ],
   "source": [
    "for i in range(len(s)):\n",
    "    if s[i] != \" \" and i+1 != len(s):\n",
    "        word += s[i]\n",
    "        continue\n",
    "    elif i+1 == len(s):\n",
    "        word += s[i]\n",
    "    print(word)\n",
    "    print(pattern[j])\n",
    "    if len(my_map[word]) == 0:\n",
    "        my_map[word] = pattern[j]\n",
    "    elif my_map[word] != pattern[j]:\n",
    "        print(0)\n",
    "    word = \"\"\n",
    "    j+=1\n",
    "print(1)"
   ]
  },
  {
   "cell_type": "code",
   "execution_count": null,
   "metadata": {},
   "outputs": [],
   "source": []
  }
 ],
 "metadata": {
  "kernelspec": {
   "display_name": "Python 3.11.7 64-bit",
   "language": "python",
   "name": "python3"
  },
  "language_info": {
   "codemirror_mode": {
    "name": "ipython",
    "version": 3
   },
   "file_extension": ".py",
   "mimetype": "text/x-python",
   "name": "python",
   "nbconvert_exporter": "python",
   "pygments_lexer": "ipython3",
   "version": "3.11.7"
  },
  "orig_nbformat": 4,
  "vscode": {
   "interpreter": {
    "hash": "b0fa6594d8f4cbf19f97940f81e996739fb7646882a419484c72d19e05852a7e"
   }
  }
 },
 "nbformat": 4,
 "nbformat_minor": 2
}
